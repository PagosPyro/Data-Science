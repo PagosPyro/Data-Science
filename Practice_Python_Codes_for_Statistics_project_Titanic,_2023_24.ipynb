{
  "nbformat": 4,
  "nbformat_minor": 0,
  "metadata": {
    "colab": {
      "provenance": [],
      "include_colab_link": true
    },
    "kernelspec": {
      "name": "python3",
      "display_name": "Python 3"
    },
    "language_info": {
      "name": "python"
    }
  },
  "cells": [
    {
      "cell_type": "markdown",
      "metadata": {
        "id": "view-in-github",
        "colab_type": "text"
      },
      "source": [
        "<a href=\"https://colab.research.google.com/github/PagosPyro/Data-Science/blob/main/Practice_Python_Codes_for_Statistics_project_Titanic%2C_2023_24.ipynb\" target=\"_parent\"><img src=\"https://colab.research.google.com/assets/colab-badge.svg\" alt=\"Open In Colab\"/></a>"
      ]
    },
    {
      "cell_type": "markdown",
      "source": [
        "# **Practice Python codes for statistics project -Titanic, 2023-24**\n",
        "# Data Set: Titanic"
      ],
      "metadata": {
        "id": "sI7yM4mOFLob"
      }
    },
    {
      "cell_type": "markdown",
      "source": [
        "\n",
        "*   Sorting and prepartion of data\n",
        "*   Calculate for central tendency and spread #\n",
        "*   Visual representaion of data #\n",
        "*   Inferrential anaylisis\n"
      ],
      "metadata": {
        "id": "a2XO3t6CDwxp"
      }
    },
    {
      "cell_type": "markdown",
      "source": [
        "# **Importing Data**\n",
        "\n"
      ],
      "metadata": {
        "id": "GDatgD7PqSKy"
      }
    },
    {
      "cell_type": "code",
      "source": [
        "#We import some packages (tools)\n",
        "import pandas as pd  #import pandas and call it pd\n",
        "import numpy as np   #import numpy and call it np\n",
        "import matplotlib.pyplot as plt\n",
        "\n",
        "\n",
        "%matplotlib inline"
      ],
      "metadata": {
        "id": "F4tUryAZF4O6"
      },
      "execution_count": null,
      "outputs": []
    },
    {
      "cell_type": "code",
      "source": [
        "#Upload file from GitHub\\\n",
        "#Click on the dataset in your GitHub repository, then click on Raw on the righthand side.\n",
        "#Copy the link to the raw dataset and paste it as a string variable called url in Colab as shown below (a cleaner method but it’s not necessary).\n",
        "#The last step is to load the url into Pandas read_csv to get the dataframe.\n",
        "url='https://raw.githubusercontent.com/srsq64/CMT-Data-Science/main/Titanic%20trainning%20set%20cleaned.csv'\n",
        "Titanic=pd.read_csv(url)\n",
        "Titanic"
      ],
      "metadata": {
        "id": "VwsI4QlQGAma"
      },
      "execution_count": null,
      "outputs": []
    },
    {
      "cell_type": "code",
      "source": [
        "# To find property of data\n",
        "Titanic.info()"
      ],
      "metadata": {
        "id": "ICYUcrBvriw5"
      },
      "execution_count": null,
      "outputs": []
    },
    {
      "cell_type": "code",
      "source": [
        "Titanic.columns #This gives you the heading of each column, a very useful information"
      ],
      "metadata": {
        "id": "RC4ggK2Pvm89"
      },
      "execution_count": null,
      "outputs": []
    },
    {
      "cell_type": "markdown",
      "source": [
        "# **Sampling methods**"
      ],
      "metadata": {
        "id": "SwVl5c1YsEws"
      }
    },
    {
      "cell_type": "markdown",
      "source": [
        "# **Produce contigency tables**"
      ],
      "metadata": {
        "id": "gWjZqbAICDj1"
      }
    },
    {
      "cell_type": "markdown",
      "source": [
        "# **Mean, Median, Mode, LQ, UP, Standard deviation, minimum and maximum**"
      ],
      "metadata": {
        "id": "Ruw6Sc86rx8K"
      }
    },
    {
      "cell_type": "code",
      "source": [],
      "metadata": {
        "id": "pPGz268RCJc4"
      },
      "execution_count": null,
      "outputs": []
    },
    {
      "cell_type": "markdown",
      "source": [
        "# **Visual represenation of data**\n",
        "\n",
        "#### Note: You can right click the produced charts and copy and paste to your report\n"
      ],
      "metadata": {
        "id": "toGb01TNwmdE"
      }
    },
    {
      "cell_type": "markdown",
      "source": [
        "## 1. Produce a bart chart\n",
        "### Use family size (FS) as an example"
      ],
      "metadata": {
        "id": "rviT53hGw8B0"
      }
    },
    {
      "cell_type": "markdown",
      "source": [
        "## 2. Produce a compund bart chart\n",
        "\n",
        "### use the Sex and Survived columns as an example"
      ],
      "metadata": {
        "id": "7Pd3bLI51Awj"
      }
    },
    {
      "cell_type": "markdown",
      "source": [
        "## 3. Produce a pie chart\n",
        "### Use family size as an example"
      ],
      "metadata": {
        "id": "aL2k5Ewi7aHc"
      }
    },
    {
      "cell_type": "markdown",
      "source": [
        "## 4. Box & Whisker\n",
        "### Use the Age data"
      ],
      "metadata": {
        "id": "ZbT6GNxXDrfB"
      }
    },
    {
      "cell_type": "markdown",
      "source": [
        "## 5. Frequency Histigrame using pli.hist\n",
        "### Use the Age data"
      ],
      "metadata": {
        "id": "EmKg9-lyE0H6"
      }
    },
    {
      "cell_type": "markdown",
      "source": [
        "## 6. Cumulative frequency chart\n",
        "### Use the Age data as an example"
      ],
      "metadata": {
        "id": "FiwfGx1FHQ5N"
      }
    },
    {
      "cell_type": "markdown",
      "source": [
        "# **Infrential anyalsis-Hypothesis testing**"
      ],
      "metadata": {
        "id": "3s3EOx51J2i-"
      }
    },
    {
      "cell_type": "markdown",
      "source": [
        "## 1. Two sample t-test\n",
        "### Use \"Survived\" and \"Fare\" variable for single family"
      ],
      "metadata": {
        "id": "K9WlBJsAKtfL"
      }
    },
    {
      "cell_type": "markdown",
      "source": [
        "## 2. Paired t-test"
      ],
      "metadata": {
        "id": "KBRiyVArUC-r"
      }
    },
    {
      "cell_type": "markdown",
      "source": [
        "## 3. Linear regression"
      ],
      "metadata": {
        "id": "syRABqmAUeop"
      }
    },
    {
      "cell_type": "markdown",
      "source": [
        "### Scatter diagram"
      ],
      "metadata": {
        "id": "E8XXorao1Ntg"
      }
    },
    {
      "cell_type": "markdown",
      "source": [
        "### Hypothesis testing for linear correlation between two varibles"
      ],
      "metadata": {
        "id": "PfrTC5ZA2QXs"
      }
    },
    {
      "cell_type": "markdown",
      "source": [
        "## 4. Chi squared test\n",
        "\n",
        "#### You can use this tool to test whether two categorical variables are related or independent.\n",
        "\n",
        "#### Assumptions\n",
        "\n",
        "#### Observations used in the calculation of the contingency table are independent.\n",
        "#### 25 or more frequency in each cell of the contingency table.\n",
        "#### Interpretation\n",
        "\n",
        "#### H0: the two samples are independent.\n",
        "#### H1: there is a dependency between the samples."
      ],
      "metadata": {
        "id": "yWoZhY0H3VRd"
      }
    }
  ]
}